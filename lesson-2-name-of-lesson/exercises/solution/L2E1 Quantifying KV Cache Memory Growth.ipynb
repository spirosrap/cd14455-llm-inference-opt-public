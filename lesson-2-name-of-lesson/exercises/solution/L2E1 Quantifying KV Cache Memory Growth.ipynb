{
 "cells": [
  {
   "cell_type": "markdown",
   "metadata": {},
   "source": [
    "# Exercise 1: Quantifying KV Cache Memory Growth\n",
    "\n",
    "**Goal:** Empirically measure and analyze the growth in peak GPU memory consumption during LLM inference as the number of generated tokens increases. This will help us quantify the memory footprint of the Key-Value (KV) Cache.\n",
    "\n",
    "**Key Learning:** Understand the direct, linear relationship between sequence length and the memory required for the KV Cache, and appreciate this as a critical trade-off in LLM inference.\n",
    "\n",
    "---"
   ]
  },
  {
   "cell_type": "markdown",
   "metadata": {},
   "source": [
    "## Step 1: Setup and Environment\n",
    "\n",
    "First, we'll install the necessary libraries and log in to Hugging Face to access the Llama model. This exercise is designed to run on a CUDA-enabled GPU to accurately measure VRAM usage."
   ]
  },
  {
   "cell_type": "code",
   "execution_count": 1,
   "metadata": {},
   "outputs": [
    {
     "name": "stdout",
     "output_type": "stream",
     "text": [
      "Requirement already satisfied: transformers in /home/ec2-user/anaconda3/envs/pytorch_p310/lib/python3.10/site-packages (4.52.4)\n",
      "Requirement already satisfied: torch in /home/ec2-user/anaconda3/envs/pytorch_p310/lib/python3.10/site-packages (2.2.2)\n",
      "Requirement already satisfied: accelerate in /home/ec2-user/anaconda3/envs/pytorch_p310/lib/python3.10/site-packages (1.7.0)\n",
      "Requirement already satisfied: matplotlib in /home/ec2-user/anaconda3/envs/pytorch_p310/lib/python3.10/site-packages (3.10.1)\n",
      "Requirement already satisfied: filelock in /home/ec2-user/anaconda3/envs/pytorch_p310/lib/python3.10/site-packages (from transformers) (3.16.1)\n",
      "Requirement already satisfied: huggingface-hub<1.0,>=0.30.0 in /home/ec2-user/anaconda3/envs/pytorch_p310/lib/python3.10/site-packages (from transformers) (0.33.0)\n",
      "Requirement already satisfied: numpy>=1.17 in /home/ec2-user/anaconda3/envs/pytorch_p310/lib/python3.10/site-packages (from transformers) (1.26.4)\n",
      "Requirement already satisfied: packaging>=20.0 in /home/ec2-user/anaconda3/envs/pytorch_p310/lib/python3.10/site-packages (from transformers) (24.2)\n",
      "Requirement already satisfied: pyyaml>=5.1 in /home/ec2-user/anaconda3/envs/pytorch_p310/lib/python3.10/site-packages (from transformers) (6.0.2)\n",
      "Requirement already satisfied: regex!=2019.12.17 in /home/ec2-user/anaconda3/envs/pytorch_p310/lib/python3.10/site-packages (from transformers) (2024.11.6)\n",
      "Requirement already satisfied: requests in /home/ec2-user/anaconda3/envs/pytorch_p310/lib/python3.10/site-packages (from transformers) (2.32.3)\n",
      "Requirement already satisfied: tokenizers<0.22,>=0.21 in /home/ec2-user/anaconda3/envs/pytorch_p310/lib/python3.10/site-packages (from transformers) (0.21.1)\n",
      "Requirement already satisfied: safetensors>=0.4.3 in /home/ec2-user/anaconda3/envs/pytorch_p310/lib/python3.10/site-packages (from transformers) (0.5.3)\n",
      "Requirement already satisfied: tqdm>=4.27 in /home/ec2-user/anaconda3/envs/pytorch_p310/lib/python3.10/site-packages (from transformers) (4.67.1)\n",
      "Requirement already satisfied: fsspec>=2023.5.0 in /home/ec2-user/anaconda3/envs/pytorch_p310/lib/python3.10/site-packages (from huggingface-hub<1.0,>=0.30.0->transformers) (2025.3.0)\n",
      "Requirement already satisfied: typing-extensions>=3.7.4.3 in /home/ec2-user/anaconda3/envs/pytorch_p310/lib/python3.10/site-packages (from huggingface-hub<1.0,>=0.30.0->transformers) (4.14.0)\n",
      "Requirement already satisfied: hf-xet<2.0.0,>=1.1.2 in /home/ec2-user/anaconda3/envs/pytorch_p310/lib/python3.10/site-packages (from huggingface-hub<1.0,>=0.30.0->transformers) (1.1.3)\n",
      "Requirement already satisfied: sympy in /home/ec2-user/anaconda3/envs/pytorch_p310/lib/python3.10/site-packages (from torch) (1.14.0)\n",
      "Requirement already satisfied: networkx in /home/ec2-user/anaconda3/envs/pytorch_p310/lib/python3.10/site-packages (from torch) (3.4.2)\n",
      "Requirement already satisfied: jinja2 in /home/ec2-user/anaconda3/envs/pytorch_p310/lib/python3.10/site-packages (from torch) (3.1.6)\n",
      "Requirement already satisfied: psutil in /home/ec2-user/anaconda3/envs/pytorch_p310/lib/python3.10/site-packages (from accelerate) (6.1.1)\n",
      "Requirement already satisfied: contourpy>=1.0.1 in /home/ec2-user/anaconda3/envs/pytorch_p310/lib/python3.10/site-packages (from matplotlib) (1.3.2)\n",
      "Requirement already satisfied: cycler>=0.10 in /home/ec2-user/anaconda3/envs/pytorch_p310/lib/python3.10/site-packages (from matplotlib) (0.12.1)\n",
      "Requirement already satisfied: fonttools>=4.22.0 in /home/ec2-user/anaconda3/envs/pytorch_p310/lib/python3.10/site-packages (from matplotlib) (4.58.1)\n",
      "Requirement already satisfied: kiwisolver>=1.3.1 in /home/ec2-user/anaconda3/envs/pytorch_p310/lib/python3.10/site-packages (from matplotlib) (1.4.7)\n",
      "Requirement already satisfied: pillow>=8 in /home/ec2-user/anaconda3/envs/pytorch_p310/lib/python3.10/site-packages (from matplotlib) (11.2.1)\n",
      "Requirement already satisfied: pyparsing>=2.3.1 in /home/ec2-user/anaconda3/envs/pytorch_p310/lib/python3.10/site-packages (from matplotlib) (3.2.3)\n",
      "Requirement already satisfied: python-dateutil>=2.7 in /home/ec2-user/anaconda3/envs/pytorch_p310/lib/python3.10/site-packages (from matplotlib) (2.9.0)\n",
      "Requirement already satisfied: six>=1.5 in /home/ec2-user/anaconda3/envs/pytorch_p310/lib/python3.10/site-packages (from python-dateutil>=2.7->matplotlib) (1.17.0)\n",
      "Requirement already satisfied: MarkupSafe>=2.0 in /home/ec2-user/anaconda3/envs/pytorch_p310/lib/python3.10/site-packages (from jinja2->torch) (3.0.2)\n",
      "Requirement already satisfied: charset_normalizer<4,>=2 in /home/ec2-user/anaconda3/envs/pytorch_p310/lib/python3.10/site-packages (from requests->transformers) (3.4.2)\n",
      "Requirement already satisfied: idna<4,>=2.5 in /home/ec2-user/anaconda3/envs/pytorch_p310/lib/python3.10/site-packages (from requests->transformers) (3.10)\n",
      "Requirement already satisfied: urllib3<3,>=1.21.1 in /home/ec2-user/anaconda3/envs/pytorch_p310/lib/python3.10/site-packages (from requests->transformers) (1.26.19)\n",
      "Requirement already satisfied: certifi>=2017.4.17 in /home/ec2-user/anaconda3/envs/pytorch_p310/lib/python3.10/site-packages (from requests->transformers) (2025.4.26)\n",
      "Requirement already satisfied: mpmath<1.4,>=1.1.0 in /home/ec2-user/anaconda3/envs/pytorch_p310/lib/python3.10/site-packages (from sympy->torch) (1.3.0)\n"
     ]
    }
   ],
   "source": [
    "!pip install transformers torch accelerate matplotlib"
   ]
  },
  {
   "cell_type": "markdown",
   "metadata": {},
   "source": [
    "**Action Required:**\n",
    "1. Get a Hugging Face User Access Token from `huggingface.co/settings/tokens`.\n",
    "2. Paste your token into the cell below to log in."
   ]
  },
  {
   "cell_type": "code",
   "execution_count": null,
   "metadata": {},
   "outputs": [],
   "source": [
    "from huggingface_hub import login\n",
    "\n",
    "# Paste your Hugging Face token here\n",
    "HF_TOKEN = \"<YOUR_HUGGING_FACE_TOKEN>\"\n",
    "\n",
    "login(token=HF_TOKEN)"
   ]
  },
  {
   "cell_type": "markdown",
   "metadata": {},
   "source": [
    "Now, let's import the required modules."
   ]
  },
  {
   "cell_type": "code",
   "execution_count": 3,
   "metadata": {},
   "outputs": [
    {
     "name": "stderr",
     "output_type": "stream",
     "text": [
      "Matplotlib is building the font cache; this may take a moment.\n"
     ]
    }
   ],
   "source": [
    "import torch\n",
    "import time\n",
    "from transformers import AutoModelForCausalLM, AutoTokenizer\n",
    "import gc\n",
    "import matplotlib.pyplot as plt"
   ]
  },
  {
   "cell_type": "markdown",
   "metadata": {},
   "source": [
    "## Step 2: Configuration and Model Loading"
   ]
  },
  {
   "cell_type": "markdown",
   "metadata": {},
   "source": [
    "We'll define our configurations: the model we want to test, the device, and the different generation lengths we want to measure."
   ]
  },
  {
   "cell_type": "code",
   "execution_count": 4,
   "metadata": {},
   "outputs": [
    {
     "name": "stdout",
     "output_type": "stream",
     "text": [
      "Using device: cuda, dtype: torch.float32\n"
     ]
    }
   ],
   "source": [
    "model_name = \"meta-llama/Llama-3.2-1B\"\n",
    "device = \"cuda\" if torch.cuda.is_available() else \"cpu\"\n",
    "dtype = torch.bfloat16 if device == \"cuda\" and torch.cuda.is_bf16_supported() else torch.float32\n",
    "\n",
    "prompt = \"The best way to optimize LLM inference is\"\n",
    "# We will test memory usage for generating various numbers of new tokens.\n",
    "generation_lengths = [50, 100, 200, 300, 400]\n",
    "\n",
    "print(f\"Using device: {device}, dtype: {dtype}\")\n",
    "if device != \"cuda\":\n",
    "    print(\"Warning: This exercise is best run on a CUDA GPU for accurate memory measurement.\")"
   ]
  },
  {
   "cell_type": "markdown",
   "metadata": {},
   "source": [
    "Next, we define a helper function to get the peak memory usage and then load our model and tokenizer."
   ]
  },
  {
   "cell_type": "code",
   "execution_count": 5,
   "metadata": {},
   "outputs": [
    {
     "name": "stdout",
     "output_type": "stream",
     "text": [
      "Loading model and tokenizer for meta-llama/Llama-3.2-1B...\n",
      "Model and tokenizer loaded.\n"
     ]
    }
   ],
   "source": [
    "def get_peak_memory_mb(device=None):\n",
    "    \"\"\"Gets the peak memory usage on a given CUDA device in megabytes.\"\"\"\n",
    "    if device is None:\n",
    "        device = torch.cuda.current_device()\n",
    "    return torch.cuda.max_memory_allocated(device) / (1024 * 1024)\n",
    "\n",
    "print(f\"Loading model and tokenizer for {model_name}...\")\n",
    "tokenizer = AutoTokenizer.from_pretrained(model_name)\n",
    "if tokenizer.pad_token is None:\n",
    "    tokenizer.pad_token = tokenizer.eos_token\n",
    "\n",
    "model = AutoModelForCausalLM.from_pretrained(\n",
    "    model_name,\n",
    "    torch_dtype=dtype,\n",
    ").to(device)\n",
    "model.eval()\n",
    "print(\"Model and tokenizer loaded.\")\n",
    "\n",
    "# Store results here\n",
    "peak_memory_results_mb = []"
   ]
  },
  {
   "cell_type": "markdown",
   "metadata": {},
   "source": [
    "## Step 3: Measuring Memory Growth\n",
    "\n",
    "This is the core of our experiment. We will loop through each of our specified `generation_lengths`. In each iteration, we will:\n",
    "1. **Reset Memory Stats:** Use `torch.cuda.reset_peak_memory_stats()` to clear the memory counter. This is crucial for isolating the memory usage of each specific `model.generate()` call.\n",
    "2. **Generate Text:** Run `model.generate()` with `use_cache=True`.\n",
    "3. **Record Peak Memory:** Immediately after generation, record the peak memory usage for that run.\n",
    "4. **Clean Up:** Clear the generated tensors to ensure each run is as independent as possible."
   ]
  },
  {
   "cell_type": "code",
   "execution_count": 6,
   "metadata": {},
   "outputs": [
    {
     "name": "stderr",
     "output_type": "stream",
     "text": [
      "The attention mask is not set and cannot be inferred from input because pad token is same as eos token. As a consequence, you may observe unexpected behavior. Please pass your input's `attention_mask` to obtain reliable results.\n"
     ]
    },
    {
     "name": "stdout",
     "output_type": "stream",
     "text": [
      "Baseline peak memory (model loaded): 4714.26 MB\n",
      "\n",
      "Generating 50 new tokens...\n",
      "  Peak memory for this run: 9446.75 MB\n",
      "\n",
      "Generating 100 new tokens...\n",
      "  Peak memory for this run: 9449.88 MB\n",
      "\n",
      "Generating 200 new tokens...\n",
      "  Peak memory for this run: 9456.13 MB\n",
      "\n",
      "Generating 300 new tokens...\n",
      "  Peak memory for this run: 9462.38 MB\n",
      "\n",
      "Generating 400 new tokens...\n",
      "  Peak memory for this run: 9470.79 MB\n"
     ]
    }
   ],
   "source": [
    "# First, get a baseline memory measurement *after* the model is loaded.\n",
    "if device == \"cuda\":\n",
    "    torch.cuda.synchronize()\n",
    "    baseline_memory_mb = get_peak_memory_mb()\n",
    "    print(f\"Baseline peak memory (model loaded): {baseline_memory_mb:.2f} MB\")\n",
    "\n",
    "for length in generation_lengths:\n",
    "    print(f\"\\nGenerating {length} new tokens...\")\n",
    "    inputs = tokenizer(prompt, return_tensors=\"pt\").to(device)\n",
    "\n",
    "    # Reset peak memory stats right before the generation call\n",
    "    if device == \"cuda\":\n",
    "        torch.cuda.reset_peak_memory_stats()\n",
    "\n",
    "    # Generate text, which will populate the KV cache\n",
    "    with torch.no_grad():\n",
    "        model.generate(\n",
    "            inputs[\"input_ids\"],\n",
    "            max_new_tokens=length,\n",
    "            use_cache=True, # This is the default, but explicit for clarity\n",
    "            pad_token_id=tokenizer.pad_token_id,\n",
    "        )\n",
    "    \n",
    "    # Get the peak memory *for this run* and add it to the baseline\n",
    "    if device == \"cuda\":\n",
    "        torch.cuda.synchronize()\n",
    "        run_peak_memory_mb = get_peak_memory_mb()\n",
    "        total_peak_memory = baseline_memory_mb + run_peak_memory_mb\n",
    "        peak_memory_results_mb.append(total_peak_memory)\n",
    "        print(f\"  Peak memory for this run: {total_peak_memory:.2f} MB\")\n",
    "\n",
    "    # Clean up memory\n",
    "    del inputs\n",
    "    if device == \"cuda\":\n",
    "        torch.cuda.empty_cache()\n",
    "    gc.collect()"
   ]
  },
  {
   "cell_type": "markdown",
   "metadata": {},
   "source": [
    "## Step 4: Analyzing and Visualizing the Results"
   ]
  },
  {
   "cell_type": "markdown",
   "metadata": {},
   "source": [
    "Let's first display our results in a table and then plot them to visualize the trend."
   ]
  },
  {
   "cell_type": "code",
   "execution_count": 7,
   "metadata": {},
   "outputs": [
    {
     "name": "stdout",
     "output_type": "stream",
     "text": [
      "--- Results Summary ---\n",
      "Generated Tokens | Total Peak Memory (MB)\n",
      "-----------------|------------------------\n",
      "              50 |                9446.75\n",
      "             100 |                9449.88\n",
      "             200 |                9456.13\n",
      "             300 |                9462.38\n",
      "             400 |                9470.79\n",
      "\n",
      "Plot saved to kv_cache_memory_growth.png\n"
     ]
    },
    {
     "data": {
      "image/png": "[encoded data removed]",
      "text/plain": [
       "<Figure size 1000x600 with 1 Axes>"
      ]
     },
     "metadata": {},
     "output_type": "display_data"
    }
   ],
   "source": [
    "print(\"--- Results Summary ---\")\n",
    "print(\"Generated Tokens | Total Peak Memory (MB)\")\n",
    "print(\"-----------------|------------------------\")\n",
    "for i, length in enumerate(generation_lengths):\n",
    "    mem_val = peak_memory_results_mb[i]\n",
    "    print(f\"{length:16} | {mem_val:22.2f}\")\n",
    "\n",
    "# Plotting the results\n",
    "if device == \"cuda\" and peak_memory_results_mb:\n",
    "    plt.figure(figsize=(10, 6))\n",
    "    plt.plot(generation_lengths, peak_memory_results_mb, marker='o', linestyle='-')\n",
    "    plt.title(f'Peak GPU Memory vs. Number of Generated Tokens\\nModel: {model_name}')\n",
    "    plt.xlabel('Number of New Tokens Generated')\n",
    "    plt.ylabel('Total Peak GPU Memory (MB)')\n",
    "    plt.grid(True)\n",
    "    plt.xticks(generation_lengths)\n",
    "    plt.tight_layout()\n",
    "    plt.savefig(\"kv_cache_memory_growth.png\")\n",
    "    print(\"\\nPlot saved to kv_cache_memory_growth.png\")\n",
    "    plt.show()"
   ]
  },
  {
   "cell_type": "markdown",
   "metadata": {},
   "source": [
    "## Step 5: Interpretation and Conclusion\n",
    "\n",
    "The results clearly show a **linear relationship** between the number of generated tokens and the peak GPU memory usage.\n",
    "\n",
    "- **Baseline Memory:** The initial memory consumed after loading the model is the cost of storing the model's weights themselves.\n",
    "- **Memory Growth:** The subsequent increase in memory with each generation run is almost entirely due to the **KV Cache**. For every new token generated, its corresponding Key and Value vectors are computed and stored in the cache for all attention heads across all layers.\n",
    "\n",
    "### Calculating Memory per Token\n",
    "\n",
    "We can estimate the memory cost per token by looking at the slope of our graph. Let's calculate it between the first and last data points:"
   ]
  },
  {
   "cell_type": "code",
   "execution_count": 9,
   "metadata": {},
   "outputs": [
    {
     "name": "stdout",
     "output_type": "stream",
     "text": [
      "Estimated memory growth per token: 0.07 MB/token\n"
     ]
    }
   ],
   "source": [
    "if len(peak_memory_results_mb) > 1:\n",
    "    delta_memory = peak_memory_results_mb[-1] - peak_memory_results_mb[0]\n",
    "    delta_tokens = generation_lengths[-1] - generation_lengths[0]\n",
    "    memory_per_token = delta_memory / delta_tokens\n",
    "    print(f\"Estimated memory growth per token: {memory_per_token:.2f} MB/token\")\n"
   ]
  },
  {
   "cell_type": "markdown",
   "metadata": {},
   "source": [
    "### Final Takeaway\n",
    "\n",
    "This exercise empirically proves the memory cost of KV Caching. While it's essential for fast inference, it's also a primary constraint on the maximum sequence length a model can handle on a given GPU. This is why techniques like **Grouped-Query Attention (GQA)**, which we'll cover next, were developed—to reduce the size of the KV Cache and mitigate this exact problem."
   ]
  }
 ],
 "metadata": {
  "kernelspec": {
   "display_name": "conda_pytorch_p310",
   "language": "python",
   "name": "conda_pytorch_p310"
  },
  "language_info": {
   "codemirror_mode": {
    "name": "ipython",
    "version": 3
   },
   "file_extension": ".py",
   "mimetype": "text/x-python",
   "name": "python",
   "nbconvert_exporter": "python",
   "pygments_lexer": "ipython3",
   "version": "3.10.14"
  }
 },
 "nbformat": 4,
 "nbformat_minor": 4
}
