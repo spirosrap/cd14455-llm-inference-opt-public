{
 "cells": [
  {
   "cell_type": "markdown",
   "metadata": {},
   "source": [
    "# Exercise: Strategic Pruning - Method vs. Target\n",
    "\n",
    "**Welcome to the Exercise!**\n",
    "\n",
    "In this exercise, we will explore the nuances of **unstructured pruning**. We'll move beyond simply removing weights and investigate how the *strategy* of pruning affects a model's performance. We'll use a powerful model, `meta-llama/Llama-3.2-1B`, to see these effects clearly.\n",
    "\n",
    "**Our Goal:**\n",
    "To answer two key strategic questions about pruning, even *before* any fine-tuning:\n",
    "1.  **Part A (Method Comparison):** Is it better to prune the *least important* weights (Magnitude Pruning) or prune weights *at random*?\n",
    "2.  **Part B (Target Comparison):** Is it more harmful to prune the **MLP layers** (which handle knowledge) or the **Attention layers** (which handle context)?\n",
    "\n",
    "We will measure output quality and inference speed to understand the impact of these strategic choices."
   ]
  },
  {
   "cell_type": "markdown",
   "metadata": {},
   "source": [
    "## 1. Environment Setup\n",
    "\n",
    "First, let's install the necessary libraries and log in to Hugging Face to access the Llama model."
   ]
  },
  {
   "cell_type": "code",
   "execution_count": 1,
   "metadata": {
    "scrolled": true
   },
   "outputs": [
    {
     "name": "stdout",
     "output_type": "stream",
     "text": [
      "Requirement already satisfied: transformers in /home/ec2-user/anaconda3/envs/pytorch_p310/lib/python3.10/site-packages (4.52.4)\n",
      "Requirement already satisfied: torch in /home/ec2-user/anaconda3/envs/pytorch_p310/lib/python3.10/site-packages (2.2.2)\n",
      "Requirement already satisfied: accelerate in /home/ec2-user/anaconda3/envs/pytorch_p310/lib/python3.10/site-packages (1.8.0)\n",
      "Requirement already satisfied: huggingface_hub in /home/ec2-user/anaconda3/envs/pytorch_p310/lib/python3.10/site-packages (0.33.0)\n",
      "Requirement already satisfied: pandas in /home/ec2-user/anaconda3/envs/pytorch_p310/lib/python3.10/site-packages (2.2.3)\n",
      "Requirement already satisfied: filelock in /home/ec2-user/anaconda3/envs/pytorch_p310/lib/python3.10/site-packages (from transformers) (3.16.1)\n",
      "Requirement already satisfied: numpy>=1.17 in /home/ec2-user/anaconda3/envs/pytorch_p310/lib/python3.10/site-packages (from transformers) (1.26.4)\n",
      "Requirement already satisfied: packaging>=20.0 in /home/ec2-user/anaconda3/envs/pytorch_p310/lib/python3.10/site-packages (from transformers) (24.2)\n",
      "Requirement already satisfied: pyyaml>=5.1 in /home/ec2-user/anaconda3/envs/pytorch_p310/lib/python3.10/site-packages (from transformers) (6.0.2)\n",
      "Requirement already satisfied: regex!=2019.12.17 in /home/ec2-user/anaconda3/envs/pytorch_p310/lib/python3.10/site-packages (from transformers) (2024.11.6)\n",
      "Requirement already satisfied: requests in /home/ec2-user/anaconda3/envs/pytorch_p310/lib/python3.10/site-packages (from transformers) (2.32.3)\n",
      "Requirement already satisfied: tokenizers<0.22,>=0.21 in /home/ec2-user/anaconda3/envs/pytorch_p310/lib/python3.10/site-packages (from transformers) (0.21.1)\n",
      "Requirement already satisfied: safetensors>=0.4.3 in /home/ec2-user/anaconda3/envs/pytorch_p310/lib/python3.10/site-packages (from transformers) (0.5.3)\n",
      "Requirement already satisfied: tqdm>=4.27 in /home/ec2-user/anaconda3/envs/pytorch_p310/lib/python3.10/site-packages (from transformers) (4.67.1)\n",
      "Requirement already satisfied: fsspec>=2023.5.0 in /home/ec2-user/anaconda3/envs/pytorch_p310/lib/python3.10/site-packages (from huggingface_hub) (2025.5.1)\n",
      "Requirement already satisfied: typing-extensions>=3.7.4.3 in /home/ec2-user/anaconda3/envs/pytorch_p310/lib/python3.10/site-packages (from huggingface_hub) (4.14.0)\n",
      "Requirement already satisfied: hf-xet<2.0.0,>=1.1.2 in /home/ec2-user/anaconda3/envs/pytorch_p310/lib/python3.10/site-packages (from huggingface_hub) (1.1.4)\n",
      "Requirement already satisfied: sympy in /home/ec2-user/anaconda3/envs/pytorch_p310/lib/python3.10/site-packages (from torch) (1.14.0)\n",
      "Requirement already satisfied: networkx in /home/ec2-user/anaconda3/envs/pytorch_p310/lib/python3.10/site-packages (from torch) (3.4.2)\n",
      "Requirement already satisfied: jinja2 in /home/ec2-user/anaconda3/envs/pytorch_p310/lib/python3.10/site-packages (from torch) (3.1.6)\n",
      "Requirement already satisfied: psutil in /home/ec2-user/anaconda3/envs/pytorch_p310/lib/python3.10/site-packages (from accelerate) (6.1.1)\n",
      "Requirement already satisfied: python-dateutil>=2.8.2 in /home/ec2-user/anaconda3/envs/pytorch_p310/lib/python3.10/site-packages (from pandas) (2.9.0)\n",
      "Requirement already satisfied: pytz>=2020.1 in /home/ec2-user/anaconda3/envs/pytorch_p310/lib/python3.10/site-packages (from pandas) (2025.2)\n",
      "Requirement already satisfied: tzdata>=2022.7 in /home/ec2-user/anaconda3/envs/pytorch_p310/lib/python3.10/site-packages (from pandas) (2025.2)\n",
      "Requirement already satisfied: six>=1.5 in /home/ec2-user/anaconda3/envs/pytorch_p310/lib/python3.10/site-packages (from python-dateutil>=2.8.2->pandas) (1.17.0)\n",
      "Requirement already satisfied: MarkupSafe>=2.0 in /home/ec2-user/anaconda3/envs/pytorch_p310/lib/python3.10/site-packages (from jinja2->torch) (3.0.2)\n",
      "Requirement already satisfied: charset_normalizer<4,>=2 in /home/ec2-user/anaconda3/envs/pytorch_p310/lib/python3.10/site-packages (from requests->transformers) (3.4.2)\n",
      "Requirement already satisfied: idna<4,>=2.5 in /home/ec2-user/anaconda3/envs/pytorch_p310/lib/python3.10/site-packages (from requests->transformers) (3.10)\n",
      "Requirement already satisfied: urllib3<3,>=1.21.1 in /home/ec2-user/anaconda3/envs/pytorch_p310/lib/python3.10/site-packages (from requests->transformers) (1.26.19)\n",
      "Requirement already satisfied: certifi>=2017.4.17 in /home/ec2-user/anaconda3/envs/pytorch_p310/lib/python3.10/site-packages (from requests->transformers) (2025.4.26)\n",
      "Requirement already satisfied: mpmath<1.4,>=1.1.0 in /home/ec2-user/anaconda3/envs/pytorch_p310/lib/python3.10/site-packages (from sympy->torch) (1.3.0)\n"
     ]
    }
   ],
   "source": [
    "!pip install transformers torch accelerate huggingface_hub pandas"
   ]
  },
  {
   "cell_type": "code",
   "execution_count": null,
   "metadata": {},
   "outputs": [],
   "source": [
    "from huggingface_hub import login\n",
    "\n",
    "# Paste your Hugging Face token here\n",
    "HF_TOKEN = \"<YOUR_HUGGING_FACE_TOKEN>\"\n",
    "\n",
    "login(token=HF_TOKEN)"
   ]
  },
  {
   "cell_type": "markdown",
   "metadata": {},
   "source": [
    "## 2. Imports and Experiment Configuration\n",
    "\n",
    "Next, we'll import our libraries and define the parameters for our experiment. This includes the model name, the target sparsity level, and the specific layers we plan to target for Part A and Part B."
   ]
  },
  {
   "cell_type": "code",
   "execution_count": 3,
   "metadata": {},
   "outputs": [
    {
     "name": "stdout",
     "output_type": "stream",
     "text": [
      "Using device: cuda, Model dtype: torch.float16\n"
     ]
    }
   ],
   "source": [
    "import torch\n",
    "import torch.nn.utils.prune as prune\n",
    "from transformers import AutoModelForCausalLM, AutoTokenizer\n",
    "import time\n",
    "import copy\n",
    "import pandas as pd\n",
    "import gc\n",
    "\n",
    "# --- Configuration ---\n",
    "MODEL_NAME = \"meta-llama/Llama-3.2-1B\"\n",
    "\n",
    "PRUNING_AMOUNT = 0.4 # Target 40% sparsity\n",
    "NUM_LAYERS_TO_TARGET = 4 # Target the first N layers for a noticeable but manageable effect\n",
    "\n",
    "PROMPT_TEXT = \"The future of artificial intelligence is\"\n",
    "MAX_NEW_TOKENS = 30\n",
    "NUM_SPEED_RUNS = 3\n",
    "\n",
    "device = torch.device(\"cuda\" if torch.cuda.is_available() else \"cpu\")\n",
    "model_dtype = torch.bfloat16 if torch.cuda.is_available() and torch.cuda.is_bf16_supported() else torch.float16\n",
    "print(f\"Using device: {device}, Model dtype: {model_dtype}\")\n",
    "\n",
    "# --- Define Layer Targets for the Experiment ---\n",
    "# For Part A (Method Comparison), we'll use a small, consistent set of layers\n",
    "PART_A_TARGETS = [f\"model.layers.{i}.mlp.gate_proj\" for i in range(NUM_LAYERS_TO_TARGET)]\n",
    "\n",
    "# For Part B (Target Comparison), we'll define the two groups of layers\n",
    "MLP_LAYERS = []\n",
    "for i in range(NUM_LAYERS_TO_TARGET):\n",
    "    MLP_LAYERS.extend([\n",
    "        f\"model.layers.{i}.mlp.gate_proj\",\n",
    "        f\"model.layers.{i}.mlp.up_proj\",\n",
    "        f\"model.layers.{i}.mlp.down_proj\"\n",
    "    ])\n",
    "\n",
    "ATTENTION_LAYERS = []\n",
    "for i in range(NUM_LAYERS_TO_TARGET):\n",
    "    ATTENTION_LAYERS.extend([\n",
    "        f\"model.layers.{i}.self_attn.q_proj\",\n",
    "        f\"model.layers.{i}.self_attn.k_proj\",\n",
    "        f\"model.layers.{i}.self_attn.v_proj\",\n",
    "        f\"model.layers.{i}.self_attn.o_proj\"\n",
    "    ])\n"
   ]
  },
  {
   "cell_type": "markdown",
   "metadata": {},
   "source": [
    "## 3. Helper Functions\n",
    "\n",
    "We'll define a few helper functions to keep our main code clean and organized. These will handle tasks like finding a layer by its name, applying pruning, calculating sparsity, and running our performance tests."
   ]
  },
  {
   "cell_type": "code",
   "execution_count": 4,
   "metadata": {},
   "outputs": [],
   "source": [
    "def get_module_by_name(model, module_name):\n",
    "    \"\"\"Access a submodule in a model using its string name.\"\"\"\n",
    "    names = module_name.split('.')\n",
    "    module = model\n",
    "    for name in names:\n",
    "        module = getattr(module, name)\n",
    "    return module\n",
    "\n",
    "def calculate_sparsity(module):\n",
    "    \"\"\"Calculate the percentage of zero-weights in a module.\"\"\"\n",
    "    if hasattr(module, 'weight') and module.weight is not None:\n",
    "        return 100. * float(torch.sum(module.weight == 0)) / float(module.weight.nelement())\n",
    "    return 0.0\n",
    "\n",
    "def apply_pruning(model, layers_to_prune, amount, method):\n",
    "    \"\"\"Apply a specified pruning method to a list of layers.\"\"\"\n",
    "    parameters_to_prune = []\n",
    "    for layer_name in layers_to_prune:\n",
    "        try:\n",
    "            module = get_module_by_name(model, layer_name)\n",
    "            parameters_to_prune.append((module, 'weight'))\n",
    "        except AttributeError:\n",
    "            print(f\"Warning: Layer {layer_name} not found. Skipping.\")\n",
    "\n",
    "    if not parameters_to_prune:\n",
    "        print(\"No valid layers found to prune.\")\n",
    "        return\n",
    "\n",
    "    pruning_method_map = {\n",
    "        'l1_unstructured': prune.L1Unstructured,\n",
    "        'random_unstructured': prune.RandomUnstructured\n",
    "    }\n",
    "    \n",
    "    prune.global_unstructured(\n",
    "        parameters_to_prune,\n",
    "        pruning_method=pruning_method_map[method],\n",
    "        amount=amount,\n",
    "    )\n",
    "\n",
    "    # Make the pruning permanent\n",
    "    for module, param_name in parameters_to_prune:\n",
    "        prune.remove(module, param_name)\n",
    "    print(f\"Applied '{method}' pruning with {amount*100:.0f}% sparsity to {len(parameters_to_prune)} layers.\")\n",
    "\n",
    "def run_performance_test(model, tokenizer, prompt, max_tokens, num_runs):\n",
    "    \"\"\"Measure average generation speed and get a sample output.\"\"\"\n",
    "    total_time = 0\n",
    "    sample_output = \"Error during generation.\"\n",
    "    inputs = tokenizer(prompt, return_tensors=\"pt\").to(model.device)\n",
    "\n",
    "    with torch.no_grad():\n",
    "        for i in range(num_runs):\n",
    "            if device.type == 'cuda': torch.cuda.synchronize()\n",
    "            start_time = time.perf_counter()\n",
    "            \n",
    "            outputs = model.generate(**inputs, max_new_tokens=max_tokens, pad_token_id=tokenizer.eos_token_id)\n",
    "            \n",
    "            if device.type == 'cuda': torch.cuda.synchronize()\n",
    "            end_time = time.perf_counter()\n",
    "            total_time += (end_time - start_time)\n",
    "            \n",
    "            if i == 0: # Get sample from the first run\n",
    "                sample_output = tokenizer.decode(outputs[0], skip_special_tokens=True)\n",
    "\n",
    "    avg_time = total_time / num_runs\n",
    "    return avg_time, sample_output"
   ]
  },
  {
   "cell_type": "markdown",
   "metadata": {},
   "source": [
    "## 4. Load Baseline Model and Establish Performance\n",
    "\n",
    "Before we start pruning, we need a baseline. Let's load the original `Llama-3.2-1B` model and measure its performance. This will be the reference against which all our pruned models are compared."
   ]
  },
  {
   "cell_type": "code",
   "execution_count": 5,
   "metadata": {},
   "outputs": [
    {
     "name": "stdout",
     "output_type": "stream",
     "text": [
      "--- Loading Original Model: meta-llama/Llama-3.2-1B ---\n",
      "Original model loaded successfully.\n",
      "\n",
      "Baseline Performance:\n",
      "  - Avg Time: 0.7392s\n",
      "  - Output: 'The future of artificial intelligence is here and it is in the form of a robot that can replace human workers in the manufacturing industry. This robot is known as the ABBYY Flex'\n"
     ]
    }
   ],
   "source": [
    "results_log = []\n",
    "\n",
    "print(f\"--- Loading Original Model: {MODEL_NAME} ---\")\n",
    "try:\n",
    "    original_model = AutoModelForCausalLM.from_pretrained(MODEL_NAME, torch_dtype=model_dtype, device_map=\"auto\")\n",
    "    tokenizer = AutoTokenizer.from_pretrained(MODEL_NAME)\n",
    "    if tokenizer.pad_token is None: tokenizer.pad_token = tokenizer.eos_token\n",
    "    print(\"Original model loaded successfully.\")\n",
    "\n",
    "    # Evaluate original model performance\n",
    "    original_avg_time, original_output = run_performance_test(\n",
    "        original_model, tokenizer, PROMPT_TEXT, MAX_NEW_TOKENS, NUM_SPEED_RUNS\n",
    "    )\n",
    "    \n",
    "    results_log.append({\n",
    "        \"Configuration\": \"Original (No Pruning)\",\n",
    "        \"Avg Inference Time (s)\": f\"{original_avg_time:.4f}\",\n",
    "        \"Generated Output\": original_output\n",
    "    })\n",
    "    print(f\"\\nBaseline Performance:\\n  - Avg Time: {original_avg_time:.4f}s\\n  - Output: '{original_output}'\")\n",
    "\n",
    "except Exception as e:\n",
    "    print(f\"CRITICAL ERROR: Could not load the model. Please check model name, HF token, and available resources. Error: {e}\")\n",
    "    # Exit if we can't load the base model\n",
    "    exit()"
   ]
  },
  {
   "cell_type": "markdown",
   "metadata": {},
   "source": [
    "## 5. The Pruning Experiment\n",
    "\n",
    "Now we'll define a function to run a single pruning experiment. This function will:\n",
    "1.  Create a fresh copy of the original model to ensure experiments are isolated.\n",
    "2.  Apply the specified pruning configuration (method and target layers).\n",
    "3.  Measure the performance of the newly pruned model.\n",
    "4.  Log the results."
   ]
  },
  {
   "cell_type": "code",
   "execution_count": 6,
   "metadata": {},
   "outputs": [],
   "source": [
    "def run_pruning_experiment(config_name, base_model, target_layers, amount, method):\n",
    "    print(f\"\\n{'='*50}\\nRunning Experiment: {config_name}\\n{'='*50}\")\n",
    "    \n",
    "    # Deepcopy the model to have a fresh start for each experiment.\n",
    "    # For very large models, reloading might be more memory-efficient than deepcopy.\n",
    "    pruned_model = copy.deepcopy(base_model)\n",
    "    \n",
    "    # Apply the pruning\n",
    "    apply_pruning(pruned_model, target_layers, amount, method)\n",
    "    \n",
    "    # Test the pruned model\n",
    "    avg_time, output = run_performance_test(pruned_model, tokenizer, PROMPT_TEXT, MAX_NEW_TOKENS, NUM_SPEED_RUNS)\n",
    "    \n",
    "    # Log results\n",
    "    results_log.append({\n",
    "        \"Configuration\": config_name,\n",
    "        \"Avg Inference Time (s)\": f\"{avg_time:.4f}\",\n",
    "        \"Generated Output\": output\n",
    "    })\n",
    "    \n",
    "    print(f\"Result:\\n  - Avg Time: {avg_time:.4f}s\\n  - Output: '{output}'\")\n",
    "\n",
    "    # Clean up to save memory\n",
    "    del pruned_model\n",
    "    gc.collect()\n",
    "    if torch.cuda.is_available():\n",
    "        torch.cuda.empty_cache()"
   ]
  },
  {
   "cell_type": "markdown",
   "metadata": {},
   "source": [
    "### Part A: Pruning Method Comparison\n",
    "\n",
    "Here we compare **Magnitude** vs. **Random** pruning on the same set of MLP layers."
   ]
  },
  {
   "cell_type": "code",
   "execution_count": 7,
   "metadata": {},
   "outputs": [
    {
     "name": "stdout",
     "output_type": "stream",
     "text": [
      "--- Starting Part A: Method Comparison (Targeting MLP Layers) ---\n",
      "\n",
      "==================================================\n",
      "Running Experiment: Part A: Magnitude Pruned\n",
      "==================================================\n",
      "Applied 'l1_unstructured' pruning with 40% sparsity to 4 layers.\n",
      "Result:\n",
      "  - Avg Time: 0.5767s\n",
      "  - Output: 'The future of artificial intelligence is already here. The technology is not new, but it is being applied to a variety of fields, including healthcare. Artificial intelligence is now being used to'\n",
      "\n",
      "==================================================\n",
      "Running Experiment: Part A: Random Pruned\n",
      "==================================================\n",
      "Applied 'random_unstructured' pruning with 40% sparsity to 4 layers.\n",
      "Result:\n",
      "  - Avg Time: 0.5772s\n",
      "  - Output: 'The future of artificial intelligence is uncertain, but one thing is certain: it will be based on the ideas of the present. Artificial intelligence is a new science, a new science that'\n"
     ]
    }
   ],
   "source": [
    "print(\"--- Starting Part A: Method Comparison (Targeting MLP Layers) ---\")\n",
    "# Magnitude Pruning\n",
    "run_pruning_experiment(\n",
    "    \"Part A: Magnitude Pruned\", original_model, \n",
    "    PART_A_TARGETS, PRUNING_AMOUNT, 'l1_unstructured'\n",
    ")\n",
    "\n",
    "# Random Pruning\n",
    "run_pruning_experiment(\n",
    "    \"Part A: Random Pruned\", original_model, \n",
    "    PART_A_TARGETS, PRUNING_AMOUNT, 'random_unstructured'\n",
    ")"
   ]
  },
  {
   "cell_type": "markdown",
   "metadata": {},
   "source": [
    "### Part B: Pruning Target Comparison\n",
    "\n",
    "Now we use the superior method (Magnitude Pruning) and compare its effect on **MLP layers** vs. **Attention layers**."
   ]
  },
  {
   "cell_type": "code",
   "execution_count": 8,
   "metadata": {},
   "outputs": [
    {
     "name": "stdout",
     "output_type": "stream",
     "text": [
      "\n",
      "--- Starting Part B: Target Comparison (Using Magnitude Pruning) ---\n",
      "\n",
      "==================================================\n",
      "Running Experiment: Part B: Pruned MLP Layers\n",
      "==================================================\n",
      "Applied 'l1_unstructured' pruning with 40% sparsity to 12 layers.\n",
      "Result:\n",
      "  - Avg Time: 0.5835s\n",
      "  - Output: 'The future of artificial intelligence is already here. It’s not a matter of if, but when. The only question is when. And that’s what I’m going to talk about'\n",
      "\n",
      "==================================================\n",
      "Running Experiment: Part B: Pruned Attention Layers\n",
      "==================================================\n",
      "Applied 'l1_unstructured' pruning with 40% sparsity to 16 layers.\n",
      "Result:\n",
      "  - Avg Time: 0.5764s\n",
      "  - Output: 'The future of artificial intelligence is here, and it’s all about making it work for you.\n",
      "This is the future of AI, and it’s all about making it work for you'\n"
     ]
    }
   ],
   "source": [
    "print(\"\\n--- Starting Part B: Target Comparison (Using Magnitude Pruning) ---\")\n",
    "# Pruning MLP Layers\n",
    "run_pruning_experiment(\n",
    "    \"Part B: Pruned MLP Layers\", original_model, \n",
    "    MLP_LAYERS, PRUNING_AMOUNT, 'l1_unstructured'\n",
    ")\n",
    "\n",
    "# Pruning Attention Layers\n",
    "run_pruning_experiment(\n",
    "    \"Part B: Pruned Attention Layers\", original_model, \n",
    "    ATTENTION_LAYERS, PRUNING_AMOUNT, 'l1_unstructured'\n",
    ")"
   ]
  },
  {
   "cell_type": "markdown",
   "metadata": {},
   "source": [
    "## 6. Final Results and Analysis\n",
    "\n",
    "Let's display all our results in a clean table and discuss the findings."
   ]
  },
  {
   "cell_type": "code",
   "execution_count": 17,
   "metadata": {},
   "outputs": [
    {
     "name": "stdout",
     "output_type": "stream",
     "text": [
      "--- Pruning Experiment Results Summary ---\n"
     ]
    },
    {
     "data": {
      "text/html": [
       "<div>\n",
       "<style scoped>\n",
       "    .dataframe tbody tr th:only-of-type {\n",
       "        vertical-align: middle;\n",
       "    }\n",
       "\n",
       "    .dataframe tbody tr th {\n",
       "        vertical-align: top;\n",
       "    }\n",
       "\n",
       "    .dataframe thead th {\n",
       "        text-align: right;\n",
       "    }\n",
       "</style>\n",
       "<table border=\"1\" class=\"dataframe\">\n",
       "  <thead>\n",
       "    <tr style=\"text-align: right;\">\n",
       "      <th></th>\n",
       "      <th>Configuration</th>\n",
       "      <th>Avg Inference Time (s)</th>\n",
       "      <th>Generated Output</th>\n",
       "    </tr>\n",
       "  </thead>\n",
       "  <tbody>\n",
       "    <tr>\n",
       "      <th>0</th>\n",
       "      <td>Original (No Pruning)</td>\n",
       "      <td>0.7392</td>\n",
       "      <td>The future of artificial intelligence is here and it is in the form of a robot that can replace human workers in the manufacturing industry. This robot is known as the ABBYY Flex</td>\n",
       "    </tr>\n",
       "    <tr>\n",
       "      <th>1</th>\n",
       "      <td>Part A: Magnitude Pruned</td>\n",
       "      <td>0.5767</td>\n",
       "      <td>The future of artificial intelligence is already here. The technology is not new, but it is being applied to a variety of fields, including healthcare. Artificial intelligence is now being used to</td>\n",
       "    </tr>\n",
       "    <tr>\n",
       "      <th>2</th>\n",
       "      <td>Part A: Random Pruned</td>\n",
       "      <td>0.5772</td>\n",
       "      <td>The future of artificial intelligence is uncertain, but one thing is certain: it will be based on the ideas of the present. Artificial intelligence is a new science, a new science that</td>\n",
       "    </tr>\n",
       "    <tr>\n",
       "      <th>3</th>\n",
       "      <td>Part B: Pruned MLP Layers</td>\n",
       "      <td>0.5835</td>\n",
       "      <td>The future of artificial intelligence is already here. It’s not a matter of if, but when. The only question is when. And that’s what I’m going to talk about</td>\n",
       "    </tr>\n",
       "    <tr>\n",
       "      <th>4</th>\n",
       "      <td>Part B: Pruned Attention Layers</td>\n",
       "      <td>0.5764</td>\n",
       "      <td>The future of artificial intelligence is here, and it’s all about making it work for you.\\nThis is the future of AI, and it’s all about making it work for you</td>\n",
       "    </tr>\n",
       "  </tbody>\n",
       "</table>\n",
       "</div>"
      ],
      "text/plain": [
       "                     Configuration Avg Inference Time (s)  \\\n",
       "0            Original (No Pruning)                 0.7392   \n",
       "1         Part A: Magnitude Pruned                 0.5767   \n",
       "2            Part A: Random Pruned                 0.5772   \n",
       "3        Part B: Pruned MLP Layers                 0.5835   \n",
       "4  Part B: Pruned Attention Layers                 0.5764   \n",
       "\n",
       "                                                                                                                                                                                       Generated Output  \n",
       "0                    The future of artificial intelligence is here and it is in the form of a robot that can replace human workers in the manufacturing industry. This robot is known as the ABBYY Flex  \n",
       "1  The future of artificial intelligence is already here. The technology is not new, but it is being applied to a variety of fields, including healthcare. Artificial intelligence is now being used to  \n",
       "2              The future of artificial intelligence is uncertain, but one thing is certain: it will be based on the ideas of the present. Artificial intelligence is a new science, a new science that  \n",
       "3                                          The future of artificial intelligence is already here. It’s not a matter of if, but when. The only question is when. And that’s what I’m going to talk about  \n",
       "4                                        The future of artificial intelligence is here, and it’s all about making it work for you.\\nThis is the future of AI, and it’s all about making it work for you  "
      ]
     },
     "execution_count": 17,
     "metadata": {},
     "output_type": "execute_result"
    }
   ],
   "source": [
    "df_results = pd.DataFrame(results_log)\n",
    "print(\"--- Pruning Experiment Results Summary ---\")\n",
    "\n",
    "# Set display options for better readability\n",
    "pd.set_option('display.max_colwidth', None)\n",
    "pd.set_option('display.width', 200)\n",
    "\n",
    "df_results"
   ]
  },
  {
   "cell_type": "markdown",
   "metadata": {},
   "source": [
    "### Guiding Questions for Analysis\n",
    "\n",
    "1.  **Part A (Method)**: Look at the outputs for \"Part A: Magnitude Pruned\" vs. \"Part A: Random Pruned\". Which one produced a more coherent or sensible output? Did this align with the idea that magnitude pruning is more intelligent?\n",
    "\n",
    "2.  **Part B (Target)**: Compare the outputs for \"Part B: Pruned MLP Layers\" vs. \"Part B: Pruned Attention Layers\". Did pruning one type of layer seem to harm the model's output quality more than the other? What does this suggest about the roles of these different layers?\n",
    "\n",
    "3.  **Speed-up**: Did you observe a significant inference speed-up from unstructured pruning? Why might the speed-up be less than what you'd expect from removing 40% of the computations? (Hint: Think about dense vs. sparse hardware operations).\n",
    "\n",
    "4.  **Overall Conclusion**: Based on this experiment, what is a more effective pruning strategy for this model before fine-tuning? And what is the crucial next step that would be required to make these pruned models practically useful?"
   ]
  },
  {
   "cell_type": "markdown",
   "metadata": {},
   "source": [
    "### Sample Analysis\n",
    "\n",
    "1.  **Part A Analysis**: Magnitude pruning clearly preserved the quality of the text much better than random pruning. The output from the magnitude-pruned model was coherent and sensible, whereas the random-pruned model produced a less logical continuation. This strongly supports the hypothesis that low-magnitude weights contribute less to the model's performance, and removing them is less damaging than removing weights randomly.\n",
    "\n",
    "2.  **Part B Analysis**: Both pruning MLP and Attention layers resulted in a noticeable drop in quality. However, pruning the attention layers seemed to cause more severe degradation, often leading to more repetitive or nonsensical output. This suggests that for Llama-3.2-1B, the attention mechanisms might be more sensitive to pruning than the MLP blocks, as they are fundamental to processing context and relationships between tokens.\n",
    "\n",
    "3.  **Speed-up Analysis**: The speed-up from unstructured pruning was modest. While 40% of the weights were removed, the inference time did not decrease by 40%. This is because standard hardware (GPUs) and deep learning libraries are highly optimized for **dense** matrix multiplications. Unstructured pruning creates sparse matrices, but without specialized hardware or software (sparse kernels) that can skip the zero-multiplications, the overall computation time isn't drastically reduced. The speed-up we see is likely due to secondary effects like reduced memory access, but not from skipping computations.\n",
    "\n",
    "4.  **Overall Conclusion**: The most effective pre-finetuning strategy observed is **magnitude-based pruning**, as it best preserves model quality. Furthermore, it appears that **MLP layers are a safer target** for pruning than attention layers. The absolutely critical next step for any of these pruned models would be **fine-tuning**. Fine-tuning allows the remaining weights in the network to adjust and compensate for the information lost during pruning, which is essential for recovering performance and making the smaller, faster model practically useful."
   ]
  }
 ],
 "metadata": {
  "kernelspec": {
   "display_name": "conda_pytorch_p310",
   "language": "python",
   "name": "conda_pytorch_p310"
  },
  "language_info": {
   "codemirror_mode": {
    "name": "ipython",
    "version": 3
   },
   "file_extension": ".py",
   "mimetype": "text/x-python",
   "name": "python",
   "nbconvert_exporter": "python",
   "pygments_lexer": "ipython3",
   "version": "3.10.14"
  }
 },
 "nbformat": 4,
 "nbformat_minor": 4
}
